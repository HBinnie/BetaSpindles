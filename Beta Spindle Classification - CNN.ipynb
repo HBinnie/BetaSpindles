{
 "cells": [
  {
   "cell_type": "code",
   "execution_count": 1,
   "metadata": {},
   "outputs": [
    {
     "name": "stderr",
     "output_type": "stream",
     "text": [
      "C:\\Users\\Hamish\\Anaconda3\\lib\\site-packages\\h5py\\__init__.py:36: FutureWarning: Conversion of the second argument of issubdtype from `float` to `np.floating` is deprecated. In future, it will be treated as `np.float64 == np.dtype(float).type`.\n",
      "  from ._conv import register_converters as _register_converters\n",
      "Using TensorFlow backend.\n"
     ]
    }
   ],
   "source": [
    "#Imports\n",
    "import keras\n",
    "import keras.utils\n",
    "from keras import utils as np_utils\n",
    "from sklearn import metrics\n",
    "from sklearn.metrics import matthews_corrcoef\n"
   ]
  },
  {
   "cell_type": "code",
   "execution_count": 2,
   "metadata": {},
   "outputs": [],
   "source": [
    "#Function to load all the data\n",
    "def load_all_data(filename):\n",
    "    import numpy as np\n",
    "    \n",
    "    a = np.load(filename)\n",
    "    d = (dict(zip((\"data1{}\".format(k) for k in a), (a[k] for k in a))))\n",
    "\n",
    "    return d"
   ]
  },
  {
   "cell_type": "code",
   "execution_count": 3,
   "metadata": {},
   "outputs": [],
   "source": [
    "#Load the data\n",
    "filename = (\"alldata.npz\")\n",
    "X = load_all_data(filename)['data1arr_0']\n",
    "y = load_all_data(filename)['data1arr_1']\n",
    "\n",
    "IDs = load_all_data(filename)['data1arr_2']"
   ]
  },
  {
   "cell_type": "code",
   "execution_count": 4,
   "metadata": {},
   "outputs": [],
   "source": [
    "#Split Data into Train_Test\n",
    "from  sklearn.model_selection import GroupShuffleSplit\n",
    "import numpy as np\n",
    "test_size = 0.2\n",
    "gss = GroupShuffleSplit(n_splits = 1, test_size = 0.2)\n",
    "\n",
    "for train,test in gss.split(X, y, IDs):\n",
    "    X_train = X[train]\n",
    "    y_train = y[train]\n",
    "    IDs_train = IDs[train]\n",
    "    \n",
    "    X_test = X[test]\n",
    "    y_test = y[test]\n",
    "    IDs_test = IDs[test]\n",
    "    \n",
    "\n",
    "fileoutname = 'train_test_data'\n",
    "np.savez(fileoutname,X_train, y_train, X_test, y_test,IDs_train,IDs_test)"
   ]
  },
  {
   "cell_type": "code",
   "execution_count": 5,
   "metadata": {},
   "outputs": [],
   "source": [
    "#Split Data in Train2_Dev\n",
    "gss = GroupShuffleSplit(1, test_size = 0.2)\n",
    "\n",
    "for train,test in gss.split(X, y, IDs):\n",
    "    X_train2 = X[train]\n",
    "    y_train2 = y[train]\n",
    "    IDs_train = IDs[train]\n",
    "    \n",
    "    X_dev = X[test]\n",
    "    y_dev = y[test]\n",
    "    IDs_test = IDs[test]\n",
    "\n",
    "fileoutname = 'train_dev_data'\n",
    "np.savez(fileoutname,X_train, y_train, X_test, y_test, IDs_train, IDs_test)"
   ]
  },
  {
   "cell_type": "code",
   "execution_count": 6,
   "metadata": {},
   "outputs": [
    {
     "name": "stderr",
     "output_type": "stream",
     "text": [
      "C:\\Users\\Hamish\\Anaconda3\\lib\\site-packages\\ipykernel_launcher.py:2: DeprecationWarning: Both axis > a.ndim and axis < -a.ndim - 1 are deprecated and will raise an AxisError in the future.\n",
      "  \n",
      "C:\\Users\\Hamish\\Anaconda3\\lib\\site-packages\\ipykernel_launcher.py:4: DeprecationWarning: Both axis > a.ndim and axis < -a.ndim - 1 are deprecated and will raise an AxisError in the future.\n",
      "  after removing the cwd from sys.path.\n"
     ]
    }
   ],
   "source": [
    "#Add dimensions for X in CNN and Convert y to Categorical\n",
    "X_train2 = np.expand_dims(X_train2,axis=4)\n",
    "y_train2 = keras.utils.to_categorical(y_train2,num_classes=2)\n",
    "X_dev = np.expand_dims(X_dev,axis=4)\n",
    "y_dev = keras.utils.to_categorical(y_dev,num_classes=2)"
   ]
  },
  {
   "cell_type": "code",
   "execution_count": 7,
   "metadata": {},
   "outputs": [],
   "source": [
    "#Build the CNN\n",
    "def  simpleCNN(self, units = 10):\n",
    "    \n",
    "    import keras\n",
    "    from keras.layers import Dense\n",
    "    from keras.layers import Conv2D, MaxPooling2D\n",
    "    from keras.layers import Flatten\n",
    "    from keras.models import Model, Input\n",
    "    \n",
    "    inp =  Input(shape = self.shape[1:], name='inp')\n",
    "    #layer 1\n",
    "    x = Conv2D(units, kernel_size=(1,1), strides = (1,1), activation='relu', data_format='channels_last')(inp)  \n",
    "    #layer 2\n",
    "    x = Conv2D(units, kernel_size=(2,2), strides = (1,1), activation='relu', data_format='channels_last')(x)  \n",
    "    #layer 3\n",
    "    x = Conv2D(units, kernel_size=(2,2), strides = (1,1), activation='relu', data_format='channels_last')(x) \n",
    "    #layer 4\n",
    "    x = Conv2D(units, kernel_size=(2,2), strides = (2,2), activation='relu', data_format='channels_last')(x) \n",
    "    #layer 5\n",
    "    x = MaxPooling2D(pool_size=(2,2), strides = (2,2), padding='valid', data_format='channels_last')(x)  \n",
    "    #layer 6\n",
    "    x = Flatten()(x)\n",
    "    #layer 7\n",
    "    out = Dense(2, activation='softmax',name='out')(x)\n",
    "    \n",
    "    model = Model(inputs = inp, outputs = out)\n",
    "    \n",
    "    return model"
   ]
  },
  {
   "cell_type": "code",
   "execution_count": 8,
   "metadata": {},
   "outputs": [],
   "source": [
    "#Assign CNN to model\n",
    "model = simpleCNN(X_train2)"
   ]
  },
  {
   "cell_type": "code",
   "execution_count": 9,
   "metadata": {},
   "outputs": [],
   "source": [
    "#Define custom metric - Matthews Correlation\n",
    "y_pred = model.predict(X_train2)\n",
    "\n",
    "import keras.backend as K\n",
    "\n",
    "def matthews_correlation(y_train2, y_pred):\n",
    "    y_pred_pos = K.round(K.clip(y_pred, 0, 1))\n",
    "    y_pred_neg = 1 - y_pred_pos\n",
    "    \n",
    "    y_pos = K.round(K.clip(y_train2, 0, 1))\n",
    "    y_neg = 1 - y_pos\n",
    "    \n",
    "    tp = K.sum(y_pos * y_pred_pos)\n",
    "    tn = K.sum(y_neg * y_pred_neg)\n",
    "    \n",
    "    fp = K.sum(y_neg * y_pred_pos)\n",
    "    fn = K.sum(y_pos * y_pred_neg)\n",
    "    \n",
    "    numerator = (tp * tn - fp * fn)\n",
    "    denominator = K.sqrt((tp + fp) * (tp + fn) * (tn + fp) * (tn + fn))\n",
    "    \n",
    "    return numerator / (denominator + K.epsilon())\n"
   ]
  },
  {
   "cell_type": "code",
   "execution_count": 10,
   "metadata": {
    "scrolled": false
   },
   "outputs": [
    {
     "name": "stdout",
     "output_type": "stream",
     "text": [
      "Train on 8830 samples, validate on 2629 samples\n",
      "Epoch 1/40\n",
      "8830/8830 [==============================] - 24s 3ms/step - loss: 2.3994 - acc: 0.6622 - matthews_correlation: 0.3243 - val_loss: 1.9250 - val_acc: 0.7006 - val_matthews_correlation: 0.4013\n",
      "Epoch 2/40\n",
      "8830/8830 [==============================] - 24s 3ms/step - loss: 1.6460 - acc: 0.7164 - matthews_correlation: 0.4328 - val_loss: 1.3130 - val_acc: 0.7554 - val_matthews_correlation: 0.5108\n",
      "Epoch 3/40\n",
      "8830/8830 [==============================] - 24s 3ms/step - loss: 1.4737 - acc: 0.7322 - matthews_correlation: 0.4643 - val_loss: 1.2657 - val_acc: 0.7569 - val_matthews_correlation: 0.5139\n",
      "Epoch 4/40\n",
      "8830/8830 [==============================] - 24s 3ms/step - loss: 1.3699 - acc: 0.7376 - matthews_correlation: 0.4752 - val_loss: 1.2519 - val_acc: 0.7535 - val_matthews_correlation: 0.5070\n",
      "Epoch 5/40\n",
      "8830/8830 [==============================] - 24s 3ms/step - loss: 1.2933 - acc: 0.7486 - matthews_correlation: 0.4972 - val_loss: 1.1101 - val_acc: 0.7661 - val_matthews_correlation: 0.5321\n",
      "Epoch 6/40\n",
      "8830/8830 [==============================] - 24s 3ms/step - loss: 1.2340 - acc: 0.7497 - matthews_correlation: 0.4994 - val_loss: 1.1323 - val_acc: 0.7653 - val_matthews_correlation: 0.5306\n",
      "Epoch 7/40\n",
      "8830/8830 [==============================] - 25s 3ms/step - loss: 1.1945 - acc: 0.7552 - matthews_correlation: 0.5103 - val_loss: 1.0963 - val_acc: 0.7661 - val_matthews_correlation: 0.5321\n",
      "Epoch 8/40\n",
      "8830/8830 [==============================] - 24s 3ms/step - loss: 1.1331 - acc: 0.7576 - matthews_correlation: 0.5153 - val_loss: 1.0834 - val_acc: 0.7684 - val_matthews_correlation: 0.5367\n",
      "Epoch 9/40\n",
      "8830/8830 [==============================] - 25s 3ms/step - loss: 1.1113 - acc: 0.7633 - matthews_correlation: 0.5266 - val_loss: 1.0017 - val_acc: 0.7817 - val_matthews_correlation: 0.5633\n",
      "Epoch 10/40\n",
      "8830/8830 [==============================] - 25s 3ms/step - loss: 1.0660 - acc: 0.7686 - matthews_correlation: 0.5373 - val_loss: 0.9312 - val_acc: 0.7859 - val_matthews_correlation: 0.5717\n",
      "Epoch 11/40\n",
      "8830/8830 [==============================] - 25s 3ms/step - loss: 1.0566 - acc: 0.7716 - matthews_correlation: 0.5431 - val_loss: 0.9384 - val_acc: 0.7900 - val_matthews_correlation: 0.5801\n",
      "Epoch 12/40\n",
      "8830/8830 [==============================] - 25s 3ms/step - loss: 1.0090 - acc: 0.7767 - matthews_correlation: 0.5533 - val_loss: 0.9501 - val_acc: 0.7889 - val_matthews_correlation: 0.5778\n",
      "Epoch 13/40\n",
      "8830/8830 [==============================] - 25s 3ms/step - loss: 0.9840 - acc: 0.7811 - matthews_correlation: 0.5622 - val_loss: 0.9199 - val_acc: 0.7965 - val_matthews_correlation: 0.5930\n",
      "Epoch 14/40\n",
      "8830/8830 [==============================] - 25s 3ms/step - loss: 0.9797 - acc: 0.7853 - matthews_correlation: 0.5706 - val_loss: 0.9058 - val_acc: 0.7946 - val_matthews_correlation: 0.5892\n",
      "Epoch 15/40\n",
      "8830/8830 [==============================] - 25s 3ms/step - loss: 0.9431 - acc: 0.7932 - matthews_correlation: 0.5864 - val_loss: 0.8162 - val_acc: 0.7999 - val_matthews_correlation: 0.5998\n",
      "Epoch 16/40\n",
      "8830/8830 [==============================] - 25s 3ms/step - loss: 0.9007 - acc: 0.7955 - matthews_correlation: 0.5909 - val_loss: 0.7973 - val_acc: 0.8060 - val_matthews_correlation: 0.6120\n",
      "Epoch 17/40\n",
      "8830/8830 [==============================] - 25s 3ms/step - loss: 0.8668 - acc: 0.8024 - matthews_correlation: 0.6048 - val_loss: 0.8184 - val_acc: 0.8049 - val_matthews_correlation: 0.6097\n",
      "Epoch 18/40\n",
      "8830/8830 [==============================] - 25s 3ms/step - loss: 0.8727 - acc: 0.8029 - matthews_correlation: 0.6059 - val_loss: 0.7562 - val_acc: 0.8136 - val_matthews_correlation: 0.6272\n",
      "Epoch 19/40\n",
      "8830/8830 [==============================] - 25s 3ms/step - loss: 0.8208 - acc: 0.8112 - matthews_correlation: 0.6224 - val_loss: 0.7502 - val_acc: 0.8136 - val_matthews_correlation: 0.6272\n",
      "Epoch 20/40\n",
      "8830/8830 [==============================] - 25s 3ms/step - loss: 0.8061 - acc: 0.8136 - matthews_correlation: 0.6272 - val_loss: 0.7193 - val_acc: 0.8178 - val_matthews_correlation: 0.6356\n",
      "Epoch 21/40\n",
      "8830/8830 [==============================] - 25s 3ms/step - loss: 0.7924 - acc: 0.8153 - matthews_correlation: 0.6306 - val_loss: 0.7059 - val_acc: 0.8220 - val_matthews_correlation: 0.6440\n",
      "Epoch 22/40\n",
      "8830/8830 [==============================] - 25s 3ms/step - loss: 0.7951 - acc: 0.8174 - matthews_correlation: 0.6349 - val_loss: 0.7083 - val_acc: 0.8239 - val_matthews_correlation: 0.6478\n",
      "Epoch 23/40\n",
      "8830/8830 [==============================] - 25s 3ms/step - loss: 0.7806 - acc: 0.8214 - matthews_correlation: 0.6428 - val_loss: 0.6436 - val_acc: 0.8258 - val_matthews_correlation: 0.6516\n",
      "Epoch 24/40\n",
      "8830/8830 [==============================] - 25s 3ms/step - loss: 0.7530 - acc: 0.8277 - matthews_correlation: 0.6555 - val_loss: 0.6226 - val_acc: 0.8357 - val_matthews_correlation: 0.6714\n",
      "Epoch 25/40\n",
      "8830/8830 [==============================] - 25s 3ms/step - loss: 0.7406 - acc: 0.8247 - matthews_correlation: 0.6494 - val_loss: 0.6956 - val_acc: 0.8311 - val_matthews_correlation: 0.6622\n",
      "Epoch 26/40\n",
      "8830/8830 [==============================] - 26s 3ms/step - loss: 0.7240 - acc: 0.8282 - matthews_correlation: 0.6564 - val_loss: 0.6474 - val_acc: 0.8323 - val_matthews_correlation: 0.6645\n",
      "Epoch 27/40\n",
      "8830/8830 [==============================] - 25s 3ms/step - loss: 0.7019 - acc: 0.8314 - matthews_correlation: 0.6627 - val_loss: 0.6538 - val_acc: 0.8338 - val_matthews_correlation: 0.6676\n",
      "Epoch 28/40\n",
      "8830/8830 [==============================] - 25s 3ms/step - loss: 0.6834 - acc: 0.8347 - matthews_correlation: 0.6693 - val_loss: 0.6188 - val_acc: 0.8353 - val_matthews_correlation: 0.6706\n",
      "Epoch 29/40\n",
      "8830/8830 [==============================] - 25s 3ms/step - loss: 0.6787 - acc: 0.8365 - matthews_correlation: 0.6729 - val_loss: 0.5919 - val_acc: 0.8391 - val_matthews_correlation: 0.6782\n",
      "Epoch 30/40\n",
      "8830/8830 [==============================] - 25s 3ms/step - loss: 0.6559 - acc: 0.8407 - matthews_correlation: 0.6813 - val_loss: 0.6048 - val_acc: 0.8406 - val_matthews_correlation: 0.6812\n",
      "Epoch 31/40\n",
      "8830/8830 [==============================] - 25s 3ms/step - loss: 0.6449 - acc: 0.8413 - matthews_correlation: 0.6827 - val_loss: 0.6354 - val_acc: 0.8368 - val_matthews_correlation: 0.6736\n",
      "Epoch 32/40\n",
      "8830/8830 [==============================] - 25s 3ms/step - loss: 0.6373 - acc: 0.8498 - matthews_correlation: 0.6997 - val_loss: 0.5900 - val_acc: 0.8429 - val_matthews_correlation: 0.6858\n",
      "Epoch 33/40\n",
      "8830/8830 [==============================] - 25s 3ms/step - loss: 0.6278 - acc: 0.8489 - matthews_correlation: 0.6978 - val_loss: 0.6495 - val_acc: 0.8395 - val_matthews_correlation: 0.6790\n",
      "Epoch 34/40\n",
      "8830/8830 [==============================] - 25s 3ms/step - loss: 0.6201 - acc: 0.8542 - matthews_correlation: 0.7085 - val_loss: 0.6014 - val_acc: 0.8437 - val_matthews_correlation: 0.6873\n",
      "Epoch 35/40\n",
      "8830/8830 [==============================] - 25s 3ms/step - loss: 0.6080 - acc: 0.8575 - matthews_correlation: 0.7151 - val_loss: 0.5557 - val_acc: 0.8513 - val_matthews_correlation: 0.7025\n",
      "Epoch 36/40\n",
      "8830/8830 [==============================] - 25s 3ms/step - loss: 0.5965 - acc: 0.8610 - matthews_correlation: 0.7221 - val_loss: 0.5754 - val_acc: 0.8513 - val_matthews_correlation: 0.7025\n",
      "Epoch 37/40\n",
      "8830/8830 [==============================] - 25s 3ms/step - loss: 0.5968 - acc: 0.8640 - matthews_correlation: 0.7280 - val_loss: 0.5448 - val_acc: 0.8528 - val_matthews_correlation: 0.7056\n",
      "Epoch 38/40\n",
      "8830/8830 [==============================] - 25s 3ms/step - loss: 0.5759 - acc: 0.8682 - matthews_correlation: 0.7364 - val_loss: 0.5898 - val_acc: 0.8501 - val_matthews_correlation: 0.7003\n",
      "Epoch 39/40\n",
      "8830/8830 [==============================] - 25s 3ms/step - loss: 0.5740 - acc: 0.8709 - matthews_correlation: 0.7418 - val_loss: 0.5572 - val_acc: 0.8566 - val_matthews_correlation: 0.7132\n",
      "Epoch 40/40\n",
      "8830/8830 [==============================] - 25s 3ms/step - loss: 0.5677 - acc: 0.8751 - matthews_correlation: 0.7502 - val_loss: 0.5578 - val_acc: 0.8589 - val_matthews_correlation: 0.7178\n"
     ]
    },
    {
     "data": {
      "text/plain": [
       "<keras.callbacks.History at 0xf43ff96f28>"
      ]
     },
     "execution_count": 10,
     "metadata": {},
     "output_type": "execute_result"
    }
   ],
   "source": [
    "#Fit Data to Model\n",
    "from keras.optimizers import Adamax\n",
    "from keras import metrics\n",
    "adamax = Adamax(lr=0.001, beta_1=0.9, beta_2=0.999, epsilon=1e-08, decay=0.0); #3e-4; 2e-3 is a default.\n",
    "model.compile(optimizer=adamax, loss='categorical_crossentropy', metrics=['acc',matthews_correlation])\n",
    "model.fit(X_train2, y_train2, epochs=40, batch_size=32, verbose = 1, validation_data = (X_dev, y_dev))"
   ]
  },
  {
   "cell_type": "code",
   "execution_count": null,
   "metadata": {},
   "outputs": [],
   "source": []
  },
  {
   "cell_type": "code",
   "execution_count": null,
   "metadata": {},
   "outputs": [],
   "source": []
  },
  {
   "cell_type": "code",
   "execution_count": null,
   "metadata": {},
   "outputs": [],
   "source": []
  },
  {
   "cell_type": "code",
   "execution_count": null,
   "metadata": {},
   "outputs": [],
   "source": []
  },
  {
   "cell_type": "code",
   "execution_count": null,
   "metadata": {},
   "outputs": [],
   "source": []
  },
  {
   "cell_type": "code",
   "execution_count": null,
   "metadata": {},
   "outputs": [],
   "source": [
    "\n",
    "\n"
   ]
  }
 ],
 "metadata": {
  "kernelspec": {
   "display_name": "Python 3",
   "language": "python",
   "name": "python3"
  },
  "language_info": {
   "codemirror_mode": {
    "name": "ipython",
    "version": 3
   },
   "file_extension": ".py",
   "mimetype": "text/x-python",
   "name": "python",
   "nbconvert_exporter": "python",
   "pygments_lexer": "ipython3",
   "version": "3.6.4"
  }
 },
 "nbformat": 4,
 "nbformat_minor": 2
}
