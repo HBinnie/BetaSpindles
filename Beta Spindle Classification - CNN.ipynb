{
 "cells": [
  {
   "cell_type": "code",
   "execution_count": 1,
   "metadata": {},
   "outputs": [
    {
     "name": "stderr",
     "output_type": "stream",
     "text": [
      "C:\\Users\\Hamish\\Anaconda3\\lib\\site-packages\\h5py\\__init__.py:36: FutureWarning: Conversion of the second argument of issubdtype from `float` to `np.floating` is deprecated. In future, it will be treated as `np.float64 == np.dtype(float).type`.\n",
      "  from ._conv import register_converters as _register_converters\n",
      "Using TensorFlow backend.\n"
     ]
    }
   ],
   "source": [
    "#Imports\n",
    "import keras\n",
    "import keras.utils\n",
    "from keras import utils as np_utils\n",
    "from sklearn import metrics\n",
    "from sklearn.metrics import matthews_corrcoef\n"
   ]
  },
  {
   "cell_type": "code",
   "execution_count": 2,
   "metadata": {},
   "outputs": [],
   "source": [
    "#Function to load all the data\n",
    "def load_all_data(filename):\n",
    "    import numpy as np\n",
    "    \n",
    "    a = np.load(filename)\n",
    "    d = (dict(zip((\"data1{}\".format(k) for k in a), (a[k] for k in a))))\n",
    "\n",
    "    return d"
   ]
  },
  {
   "cell_type": "code",
   "execution_count": 3,
   "metadata": {},
   "outputs": [],
   "source": [
    "#Load the data\n",
    "filename = (\"alldata.npz\")\n",
    "X = load_all_data(filename)['data1arr_0']\n",
    "y = load_all_data(filename)['data1arr_1']\n",
    "\n",
    "IDs = load_all_data(filename)['data1arr_2']"
   ]
  },
  {
   "cell_type": "code",
   "execution_count": 4,
   "metadata": {},
   "outputs": [],
   "source": [
    "#Split Data into Train_Test\n",
    "from  sklearn.model_selection import GroupShuffleSplit\n",
    "import numpy as np\n",
    "test_size = 0.2\n",
    "gss = GroupShuffleSplit(n_splits = 1, test_size = 0.2)\n",
    "\n",
    "for train,test in gss.split(X, y, IDs):\n",
    "    X_train = X[train]\n",
    "    y_train = y[train]\n",
    "    IDs_train = IDs[train]\n",
    "    \n",
    "    X_test = X[test]\n",
    "    y_test = y[test]\n",
    "    IDs_test = IDs[test]\n",
    "    \n",
    "\n",
    "fileoutname = 'train_test_data'\n",
    "np.savez(fileoutname,X_train, y_train, X_test, y_test,IDs_train,IDs_test)"
   ]
  },
  {
   "cell_type": "code",
   "execution_count": 5,
   "metadata": {},
   "outputs": [],
   "source": [
    "#Split Data in Train2_Dev\n",
    "gss = GroupShuffleSplit(1, test_size = 0.2)\n",
    "\n",
    "for train,test in gss.split(X, y, IDs):\n",
    "    X_train2 = X[train]\n",
    "    y_train2 = y[train]\n",
    "    IDs_train = IDs[train]\n",
    "    \n",
    "    X_dev = X[test]\n",
    "    y_dev = y[test]\n",
    "    IDs_test = IDs[test]\n",
    "\n",
    "fileoutname = 'train_dev_data'\n",
    "np.savez(fileoutname,X_train, y_train, X_test, y_test, IDs_train, IDs_test)"
   ]
  },
  {
   "cell_type": "code",
   "execution_count": 6,
   "metadata": {},
   "outputs": [
    {
     "name": "stderr",
     "output_type": "stream",
     "text": [
      "C:\\Users\\Hamish\\Anaconda3\\lib\\site-packages\\ipykernel_launcher.py:2: DeprecationWarning: Both axis > a.ndim and axis < -a.ndim - 1 are deprecated and will raise an AxisError in the future.\n",
      "  \n",
      "C:\\Users\\Hamish\\Anaconda3\\lib\\site-packages\\ipykernel_launcher.py:4: DeprecationWarning: Both axis > a.ndim and axis < -a.ndim - 1 are deprecated and will raise an AxisError in the future.\n",
      "  after removing the cwd from sys.path.\n"
     ]
    }
   ],
   "source": [
    "#Add dimensions for X in CNN and Convert y to Categorical\n",
    "X_train2 = np.expand_dims(X_train2,axis=4)\n",
    "y_train2 = keras.utils.to_categorical(y_train2,num_classes=2)\n",
    "X_dev = np.expand_dims(X_dev,axis=4)\n",
    "y_dev = keras.utils.to_categorical(y_dev,num_classes=2)"
   ]
  },
  {
   "cell_type": "code",
   "execution_count": 7,
   "metadata": {},
   "outputs": [],
   "source": [
    "#Build the CNN\n",
    "def  simpleCNN(self, units = 10):\n",
    "    \n",
    "    import keras\n",
    "    from keras.layers import Dense\n",
    "    from keras.layers import Conv2D, MaxPooling2D\n",
    "    from keras.layers import Flatten\n",
    "    from keras.models import Model, Input\n",
    "    \n",
    "    inp =  Input(shape = self.shape[1:], name='inp')\n",
    "    #layer 1\n",
    "    x = Conv2D(units, kernel_size=(1,1), strides = (1,1), activation='relu', data_format='channels_last')(inp)  \n",
    "    #layer 2\n",
    "    x = Conv2D(units, kernel_size=(2,2), strides = (1,1), activation='relu', data_format='channels_last')(x)  \n",
    "    #layer 3\n",
    "    x = Conv2D(units, kernel_size=(2,2), strides = (1,1), activation='relu', data_format='channels_last')(x) \n",
    "    #layer 4\n",
    "    x = Conv2D(units, kernel_size=(2,2), strides = (1,1), activation='relu', data_format='channels_last')(x) \n",
    "    #layer 5\n",
    "    x = MaxPooling2D(pool_size=(2,2), strides = (2,2), padding='valid', data_format='channels_last')(x)  \n",
    "    #layer 6\n",
    "    x = Flatten()(x)\n",
    "    #layer 7\n",
    "    out = Dense(2, activation='softmax',name='out')(x)\n",
    "    \n",
    "    model = Model(inputs = inp, outputs = out)\n",
    "    \n",
    "    return model"
   ]
  },
  {
   "cell_type": "code",
   "execution_count": 8,
   "metadata": {},
   "outputs": [],
   "source": [
    "#Assign CNN to model\n",
    "model = simpleCNN(X_train2)"
   ]
  },
  {
   "cell_type": "code",
   "execution_count": 9,
   "metadata": {},
   "outputs": [],
   "source": [
    "#Define custom metric - Matthews Correlation\n",
    "y_pred = model.predict(X_train2)\n",
    "\n",
    "import keras.backend as K\n",
    "\n",
    "def matthews_correlation(y_train2, y_pred):\n",
    "    y_pred_pos = K.round(K.clip(y_pred, 0, 1))\n",
    "    y_pred_neg = 1 - y_pred_pos\n",
    "    \n",
    "    y_pos = K.round(K.clip(y_train2, 0, 1))\n",
    "    y_neg = 1 - y_pos\n",
    "    \n",
    "    tp = K.sum(y_pos * y_pred_pos)\n",
    "    tn = K.sum(y_neg * y_pred_neg)\n",
    "    \n",
    "    fp = K.sum(y_neg * y_pred_pos)\n",
    "    fn = K.sum(y_pos * y_pred_neg)\n",
    "    \n",
    "    numerator = (tp * tn - fp * fn)\n",
    "    denominator = K.sqrt((tp + fp) * (tp + fn) * (tn + fp) * (tn + fn))\n",
    "    \n",
    "    return numerator / (denominator + K.epsilon())\n"
   ]
  },
  {
   "cell_type": "code",
   "execution_count": 10,
   "metadata": {
    "scrolled": false
   },
   "outputs": [
    {
     "name": "stdout",
     "output_type": "stream",
     "text": [
      "Train on 9400 samples, validate on 2059 samples\n",
      "Epoch 1/40\n",
      "9400/9400 [==============================] - 35s 4ms/step - loss: 0.7441 - acc: 0.7203 - matthews_correlation: 0.4406 - val_loss: 0.6568 - val_acc: 0.5833 - val_matthews_correlation: 0.1666\n",
      "Epoch 2/40\n",
      "9400/9400 [==============================] - 34s 4ms/step - loss: 0.4937 - acc: 0.7572 - matthews_correlation: 0.5145 - val_loss: 0.6073 - val_acc: 0.6479 - val_matthews_correlation: 0.2958\n",
      "Epoch 3/40\n",
      "9400/9400 [==============================] - 31s 3ms/step - loss: 0.3457 - acc: 0.8514 - matthews_correlation: 0.7028 - val_loss: 0.5250 - val_acc: 0.7698 - val_matthews_correlation: 0.5396\n",
      "Epoch 4/40\n",
      "9400/9400 [==============================] - 33s 4ms/step - loss: 0.2603 - acc: 0.8930 - matthews_correlation: 0.7860 - val_loss: 0.3522 - val_acc: 0.8747 - val_matthews_correlation: 0.7494\n",
      "Epoch 5/40\n",
      "9400/9400 [==============================] - 36s 4ms/step - loss: 0.2162 - acc: 0.9119 - matthews_correlation: 0.8238 - val_loss: 0.3556 - val_acc: 0.8932 - val_matthews_correlation: 0.7863\n",
      "Epoch 6/40\n",
      "9400/9400 [==============================] - 33s 4ms/step - loss: 0.1927 - acc: 0.9299 - matthews_correlation: 0.8598 - val_loss: 0.3679 - val_acc: 0.9014 - val_matthews_correlation: 0.8028\n",
      "Epoch 7/40\n",
      "9400/9400 [==============================] - 34s 4ms/step - loss: 0.1406 - acc: 0.9488 - matthews_correlation: 0.8977 - val_loss: 0.5843 - val_acc: 0.8203 - val_matthews_correlation: 0.6406\n",
      "Epoch 8/40\n",
      "9400/9400 [==============================] - 36s 4ms/step - loss: 0.1454 - acc: 0.9531 - matthews_correlation: 0.9062 - val_loss: 0.3638 - val_acc: 0.9174 - val_matthews_correlation: 0.8349\n",
      "Epoch 9/40\n",
      "9400/9400 [==============================] - 39s 4ms/step - loss: 0.1161 - acc: 0.9579 - matthews_correlation: 0.9157 - val_loss: 0.3287 - val_acc: 0.9257 - val_matthews_correlation: 0.8514\n",
      "Epoch 10/40\n",
      "9400/9400 [==============================] - 35s 4ms/step - loss: 0.1053 - acc: 0.9631 - matthews_correlation: 0.9262 - val_loss: 0.3851 - val_acc: 0.9199 - val_matthews_correlation: 0.8397\n",
      "Epoch 11/40\n",
      "9400/9400 [==============================] - 35s 4ms/step - loss: 0.0991 - acc: 0.9637 - matthews_correlation: 0.9274 - val_loss: 0.4692 - val_acc: 0.9053 - val_matthews_correlation: 0.8106\n",
      "Epoch 12/40\n",
      "9400/9400 [==============================] - 34s 4ms/step - loss: 0.1022 - acc: 0.9651 - matthews_correlation: 0.9302 - val_loss: 0.4441 - val_acc: 0.9179 - val_matthews_correlation: 0.8358\n",
      "Epoch 13/40\n",
      "9400/9400 [==============================] - 36s 4ms/step - loss: 0.0951 - acc: 0.9682 - matthews_correlation: 0.9364 - val_loss: 0.3657 - val_acc: 0.9301 - val_matthews_correlation: 0.8601\n",
      "Epoch 14/40\n",
      "9400/9400 [==============================] - 36s 4ms/step - loss: 0.0823 - acc: 0.9702 - matthews_correlation: 0.9404 - val_loss: 0.5560 - val_acc: 0.9116 - val_matthews_correlation: 0.8232\n",
      "Epoch 15/40\n",
      "9400/9400 [==============================] - 35s 4ms/step - loss: 0.0976 - acc: 0.9682 - matthews_correlation: 0.9364 - val_loss: 0.4849 - val_acc: 0.9072 - val_matthews_correlation: 0.8145\n",
      "Epoch 16/40\n",
      "9400/9400 [==============================] - 36s 4ms/step - loss: 0.0773 - acc: 0.9751 - matthews_correlation: 0.9502 - val_loss: 0.4068 - val_acc: 0.9271 - val_matthews_correlation: 0.8543\n",
      "Epoch 17/40\n",
      "9400/9400 [==============================] - 37s 4ms/step - loss: 0.0618 - acc: 0.9796 - matthews_correlation: 0.9591 - val_loss: 0.5449 - val_acc: 0.9000 - val_matthews_correlation: 0.7999\n",
      "Epoch 18/40\n",
      "9400/9400 [==============================] - 37s 4ms/step - loss: 0.0666 - acc: 0.9794 - matthews_correlation: 0.9587 - val_loss: 0.5623 - val_acc: 0.8995 - val_matthews_correlation: 0.7989\n",
      "Epoch 19/40\n",
      "9400/9400 [==============================] - 35s 4ms/step - loss: 0.0644 - acc: 0.9784 - matthews_correlation: 0.9568 - val_loss: 0.4148 - val_acc: 0.9296 - val_matthews_correlation: 0.8592\n",
      "Epoch 20/40\n",
      "9400/9400 [==============================] - 36s 4ms/step - loss: 0.0485 - acc: 0.9845 - matthews_correlation: 0.9689 - val_loss: 0.5819 - val_acc: 0.9155 - val_matthews_correlation: 0.8310\n",
      "Epoch 21/40\n",
      "9400/9400 [==============================] - 37s 4ms/step - loss: 0.0624 - acc: 0.9818 - matthews_correlation: 0.9636 - val_loss: 0.6795 - val_acc: 0.8830 - val_matthews_correlation: 0.7659\n",
      "Epoch 22/40\n",
      "9400/9400 [==============================] - 36s 4ms/step - loss: 0.0638 - acc: 0.9801 - matthews_correlation: 0.9602 - val_loss: 0.6787 - val_acc: 0.8922 - val_matthews_correlation: 0.7844\n",
      "Epoch 23/40\n",
      "9400/9400 [==============================] - 36s 4ms/step - loss: 0.0529 - acc: 0.9839 - matthews_correlation: 0.9679 - val_loss: 0.4864 - val_acc: 0.9262 - val_matthews_correlation: 0.8524\n",
      "Epoch 24/40\n",
      "9400/9400 [==============================] - 36s 4ms/step - loss: 0.0588 - acc: 0.9803 - matthews_correlation: 0.9606 - val_loss: 0.5647 - val_acc: 0.9019 - val_matthews_correlation: 0.8038\n",
      "Epoch 25/40\n",
      "9400/9400 [==============================] - 34s 4ms/step - loss: 0.0548 - acc: 0.9854 - matthews_correlation: 0.9709 - val_loss: 0.4497 - val_acc: 0.9247 - val_matthews_correlation: 0.8494\n",
      "Epoch 26/40\n",
      "9400/9400 [==============================] - 35s 4ms/step - loss: 0.0367 - acc: 0.9868 - matthews_correlation: 0.9736 - val_loss: 0.4924 - val_acc: 0.9237 - val_matthews_correlation: 0.8475\n",
      "Epoch 27/40\n",
      "9400/9400 [==============================] - 37s 4ms/step - loss: 0.0341 - acc: 0.9891 - matthews_correlation: 0.9783 - val_loss: 0.4347 - val_acc: 0.9330 - val_matthews_correlation: 0.8660\n",
      "Epoch 28/40\n",
      "9400/9400 [==============================] - 40s 4ms/step - loss: 0.0279 - acc: 0.9900 - matthews_correlation: 0.9800 - val_loss: 0.5570 - val_acc: 0.9068 - val_matthews_correlation: 0.8135\n",
      "Epoch 29/40\n",
      "9400/9400 [==============================] - 40s 4ms/step - loss: 0.0333 - acc: 0.9894 - matthews_correlation: 0.9787 - val_loss: 0.4292 - val_acc: 0.9398 - val_matthews_correlation: 0.8796\n",
      "Epoch 30/40\n",
      "9400/9400 [==============================] - 38s 4ms/step - loss: 0.0574 - acc: 0.9832 - matthews_correlation: 0.9664 - val_loss: 0.6499 - val_acc: 0.8980 - val_matthews_correlation: 0.7960\n",
      "Epoch 31/40\n",
      "9400/9400 [==============================] - 38s 4ms/step - loss: 0.0400 - acc: 0.9880 - matthews_correlation: 0.9760 - val_loss: 0.4930 - val_acc: 0.9296 - val_matthews_correlation: 0.8592\n",
      "Epoch 32/40\n",
      "9400/9400 [==============================] - 37s 4ms/step - loss: 0.0184 - acc: 0.9947 - matthews_correlation: 0.9894 - val_loss: 0.4586 - val_acc: 0.9301 - val_matthews_correlation: 0.8601\n",
      "Epoch 33/40\n",
      "9400/9400 [==============================] - 37s 4ms/step - loss: 0.0192 - acc: 0.9949 - matthews_correlation: 0.9898 - val_loss: 0.5226 - val_acc: 0.9218 - val_matthews_correlation: 0.8436\n",
      "Epoch 34/40\n",
      "9400/9400 [==============================] - 36s 4ms/step - loss: 0.0142 - acc: 0.9967 - matthews_correlation: 0.9934 - val_loss: 0.5732 - val_acc: 0.9097 - val_matthews_correlation: 0.8193\n",
      "Epoch 35/40\n",
      "9400/9400 [==============================] - 38s 4ms/step - loss: 0.0220 - acc: 0.9928 - matthews_correlation: 0.9855 - val_loss: 0.6932 - val_acc: 0.9136 - val_matthews_correlation: 0.8271\n",
      "Epoch 36/40\n",
      "9400/9400 [==============================] - 38s 4ms/step - loss: 0.0441 - acc: 0.9909 - matthews_correlation: 0.9817 - val_loss: 0.5796 - val_acc: 0.9174 - val_matthews_correlation: 0.8349\n",
      "Epoch 37/40\n",
      "9400/9400 [==============================] - 39s 4ms/step - loss: 0.0332 - acc: 0.9919 - matthews_correlation: 0.9838 - val_loss: 0.6639 - val_acc: 0.9048 - val_matthews_correlation: 0.8096\n",
      "Epoch 38/40\n",
      "9400/9400 [==============================] - 39s 4ms/step - loss: 0.0185 - acc: 0.9948 - matthews_correlation: 0.9896 - val_loss: 0.7466 - val_acc: 0.9082 - val_matthews_correlation: 0.8164\n",
      "Epoch 39/40\n",
      "9400/9400 [==============================] - 39s 4ms/step - loss: 0.0213 - acc: 0.9953 - matthews_correlation: 0.9906 - val_loss: 0.5740 - val_acc: 0.9262 - val_matthews_correlation: 0.8524\n",
      "Epoch 40/40\n",
      "9400/9400 [==============================] - 38s 4ms/step - loss: 0.0101 - acc: 0.9971 - matthews_correlation: 0.9943 - val_loss: 0.5354 - val_acc: 0.9291 - val_matthews_correlation: 0.8582\n"
     ]
    },
    {
     "data": {
      "text/plain": [
       "<keras.callbacks.History at 0xb3abb8e198>"
      ]
     },
     "execution_count": 10,
     "metadata": {},
     "output_type": "execute_result"
    }
   ],
   "source": [
    "#Fit Data to Model\n",
    "from keras.optimizers import Adamax\n",
    "from keras import metrics\n",
    "adamax = Adamax(lr=0.01, beta_1=0.9, beta_2=0.999, epsilon=1e-08, decay=0.0); #3e-4; 2e-3 is a default.\n",
    "model.compile(optimizer=adamax, loss='categorical_crossentropy', metrics=['acc',matthews_correlation])\n",
    "model.fit(X_train2, y_train2, epochs=40, batch_size=32, verbose = 1, validation_data = (X_dev, y_dev))"
   ]
  },
  {
   "cell_type": "code",
   "execution_count": null,
   "metadata": {},
   "outputs": [],
   "source": []
  },
  {
   "cell_type": "code",
   "execution_count": null,
   "metadata": {},
   "outputs": [],
   "source": []
  },
  {
   "cell_type": "code",
   "execution_count": null,
   "metadata": {},
   "outputs": [],
   "source": []
  },
  {
   "cell_type": "code",
   "execution_count": null,
   "metadata": {},
   "outputs": [],
   "source": []
  },
  {
   "cell_type": "code",
   "execution_count": null,
   "metadata": {},
   "outputs": [],
   "source": []
  },
  {
   "cell_type": "code",
   "execution_count": null,
   "metadata": {},
   "outputs": [],
   "source": [
    "\n",
    "\n"
   ]
  }
 ],
 "metadata": {
  "kernelspec": {
   "display_name": "Python 3",
   "language": "python",
   "name": "python3"
  },
  "language_info": {
   "codemirror_mode": {
    "name": "ipython",
    "version": 3
   },
   "file_extension": ".py",
   "mimetype": "text/x-python",
   "name": "python",
   "nbconvert_exporter": "python",
   "pygments_lexer": "ipython3",
   "version": "3.6.4"
  }
 },
 "nbformat": 4,
 "nbformat_minor": 2
}
