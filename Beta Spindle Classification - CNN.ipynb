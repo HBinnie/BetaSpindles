{
 "cells": [
  {
   "cell_type": "code",
   "execution_count": 1,
   "metadata": {},
   "outputs": [
    {
     "name": "stderr",
     "output_type": "stream",
     "text": [
      "C:\\Users\\Hamish\\Anaconda3\\lib\\site-packages\\h5py\\__init__.py:36: FutureWarning: Conversion of the second argument of issubdtype from `float` to `np.floating` is deprecated. In future, it will be treated as `np.float64 == np.dtype(float).type`.\n",
      "  from ._conv import register_converters as _register_converters\n",
      "Using TensorFlow backend.\n"
     ]
    }
   ],
   "source": [
    "#Imports\n",
    "import keras\n",
    "import keras.utils\n",
    "from keras import utils as np_utils\n",
    "from sklearn import metrics\n",
    "from sklearn.metrics import matthews_corrcoef\n"
   ]
  },
  {
   "cell_type": "code",
   "execution_count": 2,
   "metadata": {},
   "outputs": [],
   "source": [
    "#Function to load all the data\n",
    "def load_all_data(filename):\n",
    "    import numpy as np\n",
    "    \n",
    "    a = np.load(filename)\n",
    "    d = (dict(zip((\"data1{}\".format(k) for k in a), (a[k] for k in a))))\n",
    "\n",
    "    return d"
   ]
  },
  {
   "cell_type": "code",
   "execution_count": 3,
   "metadata": {},
   "outputs": [],
   "source": [
    "#Load the data\n",
    "filename = (\"alldata.npz\")\n",
    "X = load_all_data(filename)['data1arr_0']\n",
    "y = load_all_data(filename)['data1arr_1']\n",
    "\n",
    "IDs = load_all_data(filename)['data1arr_2']"
   ]
  },
  {
   "cell_type": "code",
   "execution_count": 4,
   "metadata": {},
   "outputs": [],
   "source": [
    "#Split Data into Train_Test\n",
    "from  sklearn.model_selection import GroupShuffleSplit\n",
    "import numpy as np\n",
    "test_size = 0.2\n",
    "gss = GroupShuffleSplit(n_splits = 1, test_size = 0.2)\n",
    "\n",
    "for train,test in gss.split(X, y, IDs):\n",
    "    X_train = X[train]\n",
    "    y_train = y[train]\n",
    "    IDs_train = IDs[train]\n",
    "    \n",
    "    X_test = X[test]\n",
    "    y_test = y[test]\n",
    "    IDs_test = IDs[test]\n",
    "    \n",
    "\n",
    "fileoutname = 'train_test_data'\n",
    "np.savez(fileoutname,X_train, y_train, X_test, y_test,IDs_train,IDs_test)"
   ]
  },
  {
   "cell_type": "code",
   "execution_count": 5,
   "metadata": {},
   "outputs": [],
   "source": [
    "#Split Data in Train2_Dev\n",
    "gss = GroupShuffleSplit(1, test_size = 0.2)\n",
    "\n",
    "for train,test in gss.split(X, y, IDs):\n",
    "    X_train2 = X[train]\n",
    "    y_train2 = y[train]\n",
    "    IDs_train = IDs[train]\n",
    "    \n",
    "    X_dev = X[test]\n",
    "    y_dev = y[test]\n",
    "    IDs_test = IDs[test]\n",
    "\n",
    "fileoutname = 'train_dev_data'\n",
    "np.savez(fileoutname,X_train, y_train, X_test, y_test, IDs_train, IDs_test)"
   ]
  },
  {
   "cell_type": "code",
   "execution_count": 6,
   "metadata": {},
   "outputs": [
    {
     "name": "stderr",
     "output_type": "stream",
     "text": [
      "C:\\Users\\Hamish\\Anaconda3\\lib\\site-packages\\ipykernel_launcher.py:2: DeprecationWarning: Both axis > a.ndim and axis < -a.ndim - 1 are deprecated and will raise an AxisError in the future.\n",
      "  \n",
      "C:\\Users\\Hamish\\Anaconda3\\lib\\site-packages\\ipykernel_launcher.py:4: DeprecationWarning: Both axis > a.ndim and axis < -a.ndim - 1 are deprecated and will raise an AxisError in the future.\n",
      "  after removing the cwd from sys.path.\n"
     ]
    }
   ],
   "source": [
    "#Add dimensions for X in CNN and Convert y to Categorical\n",
    "X_train2 = np.expand_dims(X_train2,axis=4)\n",
    "y_train2 = keras.utils.to_categorical(y_train2,num_classes=2)\n",
    "X_dev = np.expand_dims(X_dev,axis=4)\n",
    "y_dev = keras.utils.to_categorical(y_dev,num_classes=2)"
   ]
  },
  {
   "cell_type": "code",
   "execution_count": 7,
   "metadata": {},
   "outputs": [],
   "source": [
    "#Build the CNN\n",
    "def  simpleCNN(self, units = 10):\n",
    "    \n",
    "    import keras\n",
    "    from keras.layers import Dense\n",
    "    from keras.layers import Conv2D, MaxPooling2D\n",
    "    from keras.layers import Flatten, Dropout\n",
    "    from keras.models import Model, Input\n",
    "    \n",
    "    inp =  Input(shape = self.shape[1:], name='inp')\n",
    "    #layer 1\n",
    "    x = Conv2D(units, kernel_size=(1,1), strides = (1,1), activation='relu', data_format='channels_last')(inp)  \n",
    "    #Dropout Layer\n",
    "    x = Dropout(rate = 0.2)(x) \n",
    "    #layer 2\n",
    "    x = Conv2D(units, kernel_size=(2,2), strides = (1,1), activation='relu', data_format='channels_last')(x) \n",
    "    # Dropout Layer\n",
    "    x = Dropout(rate = 0.2)(x) \n",
    "    #layer 3\n",
    "    x = Conv2D(units, kernel_size=(2,2), strides = (1,1), activation='relu', data_format='channels_last')(x) \n",
    "    #layer 4\n",
    "    x = Dropout(rate = 0.2)(x) \n",
    "    #layer 5\n",
    "    x = Conv2D(units, kernel_size=(2,2), strides = (1,1), activation='relu', data_format='channels_last')(x) \n",
    "    #layer 6\n",
    "    x = Dropout(rate = 0.2)(x) \n",
    "    #layer 7\n",
    "    x = MaxPooling2D(pool_size=(2,2), strides = (2,2), padding='valid', data_format='channels_last')(x)  \n",
    "    #layer 8\n",
    "    x = Flatten()(x)\n",
    "    #layer 9\n",
    "    out = Dense(2, activation='softmax',name='out')(x)\n",
    "    \n",
    "    model = Model(inputs = inp, outputs = out)\n",
    "    \n",
    "    return model"
   ]
  },
  {
   "cell_type": "code",
   "execution_count": 8,
   "metadata": {},
   "outputs": [],
   "source": [
    "#Assign CNN to model\n",
    "model = simpleCNN(X_train2)"
   ]
  },
  {
   "cell_type": "code",
   "execution_count": 9,
   "metadata": {},
   "outputs": [],
   "source": [
    "#Define custom metric - Matthews Correlation\n",
    "y_pred = model.predict(X_train2)\n",
    "\n",
    "import keras.backend as K\n",
    "\n",
    "def matthews_correlation(y_train2, y_pred):\n",
    "    y_pred_pos = K.round(K.clip(y_pred, 0, 1))\n",
    "    y_pred_neg = 1 - y_pred_pos\n",
    "    \n",
    "    y_pos = K.round(K.clip(y_train2, 0, 1))\n",
    "    y_neg = 1 - y_pos\n",
    "    \n",
    "    \n",
    "    tp = K.sum(y_pos * y_pred_pos)\n",
    "    tn = K.sum(y_neg * y_pred_neg)\n",
    "    \n",
    "    fp = K.sum(y_neg * y_pred_pos)\n",
    "    fn = K.sum(y_pos * y_pred_neg)\n",
    "    \n",
    "    numerator = (tp * tn - fp * fn)\n",
    "    denominator = K.sqrt((tp + fp) * (tp + fn) * (tn + fp) * (tn + fn))\n",
    "    \n",
    "    return numerator / (denominator + K.epsilon())\n"
   ]
  },
  {
   "cell_type": "code",
   "execution_count": 10,
   "metadata": {
    "scrolled": true
   },
   "outputs": [
    {
     "name": "stdout",
     "output_type": "stream",
     "text": [
      "Train on 9186 samples, validate on 2273 samples\n",
      "Epoch 1/150\n",
      "9186/9186 [==============================] - 46s 5ms/step - loss: 2.1355 - acc: 0.6829 - matthews_correlation: 0.3658 - val_loss: 1.4951 - val_acc: 0.7440 - val_matthews_correlation: 0.4879\n",
      "Epoch 2/150\n",
      "9186/9186 [==============================] - 47s 5ms/step - loss: 1.5655 - acc: 0.7553 - matthews_correlation: 0.5106 - val_loss: 1.4632 - val_acc: 0.7444 - val_matthews_correlation: 0.4888\n",
      "Epoch 3/150\n",
      "9186/9186 [==============================] - 47s 5ms/step - loss: 1.4794 - acc: 0.7567 - matthews_correlation: 0.5134 - val_loss: 1.4904 - val_acc: 0.7466 - val_matthews_correlation: 0.4932\n",
      "Epoch 4/150\n",
      "9186/9186 [==============================] - 48s 5ms/step - loss: 1.3227 - acc: 0.7717 - matthews_correlation: 0.5434 - val_loss: 1.4434 - val_acc: 0.7523 - val_matthews_correlation: 0.5046\n",
      "Epoch 5/150\n",
      "9186/9186 [==============================] - 49s 5ms/step - loss: 1.2922 - acc: 0.7708 - matthews_correlation: 0.5417 - val_loss: 1.4542 - val_acc: 0.7549 - val_matthews_correlation: 0.5099\n",
      "Epoch 6/150\n",
      "9186/9186 [==============================] - 48s 5ms/step - loss: 1.3149 - acc: 0.7673 - matthews_correlation: 0.5345 - val_loss: 1.4266 - val_acc: 0.7611 - val_matthews_correlation: 0.5222\n",
      "Epoch 7/150\n",
      "9186/9186 [==============================] - 50s 5ms/step - loss: 1.2251 - acc: 0.7814 - matthews_correlation: 0.5628 - val_loss: 1.3836 - val_acc: 0.7571 - val_matthews_correlation: 0.5143\n",
      "Epoch 8/150\n",
      "9186/9186 [==============================] - 49s 5ms/step - loss: 1.1368 - acc: 0.7823 - matthews_correlation: 0.5646 - val_loss: 1.4960 - val_acc: 0.7475 - val_matthews_correlation: 0.4949\n",
      "Epoch 9/150\n",
      "9186/9186 [==============================] - 47s 5ms/step - loss: 1.1565 - acc: 0.7805 - matthews_correlation: 0.5611 - val_loss: 1.4925 - val_acc: 0.7470 - val_matthews_correlation: 0.4941\n",
      "Epoch 10/150\n",
      "9186/9186 [==============================] - 47s 5ms/step - loss: 1.1342 - acc: 0.7866 - matthews_correlation: 0.5733 - val_loss: 1.2699 - val_acc: 0.7602 - val_matthews_correlation: 0.5205\n",
      "Epoch 11/150\n",
      "9186/9186 [==============================] - 47s 5ms/step - loss: 1.0602 - acc: 0.7919 - matthews_correlation: 0.5837 - val_loss: 1.2365 - val_acc: 0.7651 - val_matthews_correlation: 0.5301\n",
      "Epoch 12/150\n",
      "9186/9186 [==============================] - 46s 5ms/step - loss: 1.1081 - acc: 0.7892 - matthews_correlation: 0.5785 - val_loss: 1.5365 - val_acc: 0.7501 - val_matthews_correlation: 0.5002\n",
      "Epoch 13/150\n",
      "9186/9186 [==============================] - 47s 5ms/step - loss: 1.0532 - acc: 0.7952 - matthews_correlation: 0.5905 - val_loss: 1.1506 - val_acc: 0.7796 - val_matthews_correlation: 0.5592\n",
      "Epoch 14/150\n",
      "9186/9186 [==============================] - 47s 5ms/step - loss: 1.0416 - acc: 0.7962 - matthews_correlation: 0.5924 - val_loss: 1.2928 - val_acc: 0.7620 - val_matthews_correlation: 0.5240\n",
      "Epoch 15/150\n",
      "9186/9186 [==============================] - 47s 5ms/step - loss: 1.0413 - acc: 0.7969 - matthews_correlation: 0.5937 - val_loss: 1.2083 - val_acc: 0.7805 - val_matthews_correlation: 0.5609\n",
      "Epoch 16/150\n",
      "9186/9186 [==============================] - 47s 5ms/step - loss: 1.0134 - acc: 0.8025 - matthews_correlation: 0.6051 - val_loss: 1.1494 - val_acc: 0.7752 - val_matthews_correlation: 0.5504\n",
      "Epoch 17/150\n",
      "9186/9186 [==============================] - 47s 5ms/step - loss: 0.9474 - acc: 0.8099 - matthews_correlation: 0.6199 - val_loss: 1.1666 - val_acc: 0.7739 - val_matthews_correlation: 0.5477\n",
      "Epoch 18/150\n",
      "9186/9186 [==============================] - 47s 5ms/step - loss: 1.0254 - acc: 0.7995 - matthews_correlation: 0.5990 - val_loss: 1.0894 - val_acc: 0.7765 - val_matthews_correlation: 0.5530\n",
      "Epoch 19/150\n",
      "9186/9186 [==============================] - 47s 5ms/step - loss: 1.0277 - acc: 0.8005 - matthews_correlation: 0.6009 - val_loss: 1.1295 - val_acc: 0.7791 - val_matthews_correlation: 0.5583\n",
      "Epoch 20/150\n",
      "9186/9186 [==============================] - 47s 5ms/step - loss: 1.0019 - acc: 0.8034 - matthews_correlation: 0.6068 - val_loss: 1.1741 - val_acc: 0.7827 - val_matthews_correlation: 0.5653\n",
      "Epoch 21/150\n",
      "9186/9186 [==============================] - 47s 5ms/step - loss: 0.9247 - acc: 0.8119 - matthews_correlation: 0.6238 - val_loss: 1.2320 - val_acc: 0.7712 - val_matthews_correlation: 0.5425\n",
      "Epoch 22/150\n",
      "9186/9186 [==============================] - 47s 5ms/step - loss: 0.9548 - acc: 0.8118 - matthews_correlation: 0.6236 - val_loss: 1.1218 - val_acc: 0.7796 - val_matthews_correlation: 0.5592\n",
      "Epoch 23/150\n",
      "9186/9186 [==============================] - 47s 5ms/step - loss: 0.9157 - acc: 0.8097 - matthews_correlation: 0.6194 - val_loss: 1.2027 - val_acc: 0.7747 - val_matthews_correlation: 0.5495\n",
      "Epoch 24/150\n",
      "9186/9186 [==============================] - 47s 5ms/step - loss: 0.9277 - acc: 0.8154 - matthews_correlation: 0.6307 - val_loss: 1.1577 - val_acc: 0.7853 - val_matthews_correlation: 0.5706\n",
      "Epoch 25/150\n",
      "9186/9186 [==============================] - 47s 5ms/step - loss: 1.0208 - acc: 0.7985 - matthews_correlation: 0.5970 - val_loss: 1.4739 - val_acc: 0.7598 - val_matthews_correlation: 0.5196\n",
      "Epoch 26/150\n",
      "9186/9186 [==============================] - 48s 5ms/step - loss: 0.9498 - acc: 0.8169 - matthews_correlation: 0.6338 - val_loss: 1.0929 - val_acc: 0.7919 - val_matthews_correlation: 0.5838\n",
      "Epoch 27/150\n",
      "9186/9186 [==============================] - 48s 5ms/step - loss: 0.9029 - acc: 0.8159 - matthews_correlation: 0.6318 - val_loss: 1.1621 - val_acc: 0.7809 - val_matthews_correlation: 0.5618\n",
      "Epoch 28/150\n",
      "9186/9186 [==============================] - 47s 5ms/step - loss: 0.9186 - acc: 0.8138 - matthews_correlation: 0.6277 - val_loss: 1.2341 - val_acc: 0.7655 - val_matthews_correlation: 0.5310\n",
      "Epoch 29/150\n",
      "9186/9186 [==============================] - 47s 5ms/step - loss: 0.9276 - acc: 0.8120 - matthews_correlation: 0.6240 - val_loss: 1.0525 - val_acc: 0.7967 - val_matthews_correlation: 0.5935\n",
      "Epoch 30/150\n",
      "9186/9186 [==============================] - 48s 5ms/step - loss: 0.8502 - acc: 0.8208 - matthews_correlation: 0.6416 - val_loss: 1.0482 - val_acc: 0.7919 - val_matthews_correlation: 0.5838\n",
      "Epoch 31/150\n",
      "9186/9186 [==============================] - 48s 5ms/step - loss: 0.8821 - acc: 0.8211 - matthews_correlation: 0.6423 - val_loss: 1.0726 - val_acc: 0.7910 - val_matthews_correlation: 0.5821\n",
      "Epoch 32/150\n",
      "9186/9186 [==============================] - 49s 5ms/step - loss: 0.8771 - acc: 0.8219 - matthews_correlation: 0.6438 - val_loss: 1.1249 - val_acc: 0.7796 - val_matthews_correlation: 0.5592\n",
      "Epoch 33/150\n",
      "9186/9186 [==============================] - 49s 5ms/step - loss: 0.8782 - acc: 0.8196 - matthews_correlation: 0.6392 - val_loss: 1.1351 - val_acc: 0.7919 - val_matthews_correlation: 0.5838\n",
      "Epoch 34/150\n",
      "9186/9186 [==============================] - 49s 5ms/step - loss: 0.8282 - acc: 0.8327 - matthews_correlation: 0.6654 - val_loss: 0.9702 - val_acc: 0.7972 - val_matthews_correlation: 0.5944\n",
      "Epoch 35/150\n",
      "9186/9186 [==============================] - 49s 5ms/step - loss: 0.8570 - acc: 0.8223 - matthews_correlation: 0.6447 - val_loss: 0.9573 - val_acc: 0.8020 - val_matthews_correlation: 0.6040\n",
      "Epoch 36/150\n",
      "9186/9186 [==============================] - 51s 6ms/step - loss: 0.8534 - acc: 0.8217 - matthews_correlation: 0.6434 - val_loss: 0.9705 - val_acc: 0.8135 - val_matthews_correlation: 0.6269\n",
      "Epoch 37/150\n",
      "9186/9186 [==============================] - 49s 5ms/step - loss: 0.8069 - acc: 0.8259 - matthews_correlation: 0.6519 - val_loss: 1.0462 - val_acc: 0.7871 - val_matthews_correlation: 0.5741\n",
      "Epoch 38/150\n",
      "9186/9186 [==============================] - 49s 5ms/step - loss: 0.8422 - acc: 0.8195 - matthews_correlation: 0.6390 - val_loss: 1.0012 - val_acc: 0.8077 - val_matthews_correlation: 0.6155\n",
      "Epoch 39/150\n",
      "9186/9186 [==============================] - 50s 5ms/step - loss: 0.8526 - acc: 0.8234 - matthews_correlation: 0.6469 - val_loss: 0.9711 - val_acc: 0.7998 - val_matthews_correlation: 0.5996\n",
      "Epoch 40/150\n",
      "9186/9186 [==============================] - 51s 6ms/step - loss: 0.8500 - acc: 0.8196 - matthews_correlation: 0.6392 - val_loss: 0.9609 - val_acc: 0.8082 - val_matthews_correlation: 0.6164\n",
      "Epoch 41/150\n"
     ]
    },
    {
     "name": "stdout",
     "output_type": "stream",
     "text": [
      "9186/9186 [==============================] - 46s 5ms/step - loss: 0.7724 - acc: 0.8350 - matthews_correlation: 0.6699 - val_loss: 0.9748 - val_acc: 0.7972 - val_matthews_correlation: 0.5944\n",
      "Epoch 42/150\n",
      "9186/9186 [==============================] - 46s 5ms/step - loss: 0.8281 - acc: 0.8285 - matthews_correlation: 0.6571 - val_loss: 1.0791 - val_acc: 0.7928 - val_matthews_correlation: 0.5856\n",
      "Epoch 43/150\n",
      "9186/9186 [==============================] - 45s 5ms/step - loss: 0.7411 - acc: 0.8373 - matthews_correlation: 0.6745 - val_loss: 1.0506 - val_acc: 0.8051 - val_matthews_correlation: 0.6102\n",
      "Epoch 44/150\n",
      "9186/9186 [==============================] - 45s 5ms/step - loss: 0.8017 - acc: 0.8342 - matthews_correlation: 0.6684 - val_loss: 0.9958 - val_acc: 0.8113 - val_matthews_correlation: 0.6225\n",
      "Epoch 45/150\n",
      "9186/9186 [==============================] - 46s 5ms/step - loss: 0.7813 - acc: 0.8326 - matthews_correlation: 0.6651 - val_loss: 1.0884 - val_acc: 0.8011 - val_matthews_correlation: 0.6023\n",
      "Epoch 46/150\n",
      "9186/9186 [==============================] - 46s 5ms/step - loss: 0.7693 - acc: 0.8365 - matthews_correlation: 0.6730 - val_loss: 0.9137 - val_acc: 0.8073 - val_matthews_correlation: 0.6146\n",
      "Epoch 47/150\n",
      "9186/9186 [==============================] - 46s 5ms/step - loss: 0.7708 - acc: 0.8332 - matthews_correlation: 0.6664 - val_loss: 0.9024 - val_acc: 0.8130 - val_matthews_correlation: 0.6260\n",
      "Epoch 48/150\n",
      "9186/9186 [==============================] - 46s 5ms/step - loss: 0.7496 - acc: 0.8307 - matthews_correlation: 0.6614 - val_loss: 0.9630 - val_acc: 0.8064 - val_matthews_correlation: 0.6128\n",
      "Epoch 49/150\n",
      "9186/9186 [==============================] - 47s 5ms/step - loss: 0.7609 - acc: 0.8374 - matthews_correlation: 0.6747 - val_loss: 0.9230 - val_acc: 0.8099 - val_matthews_correlation: 0.6199\n",
      "Epoch 50/150\n",
      "9186/9186 [==============================] - 47s 5ms/step - loss: 0.7235 - acc: 0.8343 - matthews_correlation: 0.6686 - val_loss: 0.9128 - val_acc: 0.8201 - val_matthews_correlation: 0.6401\n",
      "Epoch 51/150\n",
      "9186/9186 [==============================] - 47s 5ms/step - loss: 0.7911 - acc: 0.8346 - matthews_correlation: 0.6693 - val_loss: 1.0903 - val_acc: 0.7963 - val_matthews_correlation: 0.5926\n",
      "Epoch 52/150\n",
      "9186/9186 [==============================] - 47s 5ms/step - loss: 0.7543 - acc: 0.8386 - matthews_correlation: 0.6771 - val_loss: 0.9730 - val_acc: 0.8152 - val_matthews_correlation: 0.6304\n",
      "Epoch 53/150\n",
      "9186/9186 [==============================] - 47s 5ms/step - loss: 0.7112 - acc: 0.8415 - matthews_correlation: 0.6830 - val_loss: 1.0236 - val_acc: 0.8099 - val_matthews_correlation: 0.6199\n",
      "Epoch 54/150\n",
      "9186/9186 [==============================] - 47s 5ms/step - loss: 0.7103 - acc: 0.8420 - matthews_correlation: 0.6841 - val_loss: 0.9535 - val_acc: 0.8161 - val_matthews_correlation: 0.6322\n",
      "Epoch 55/150\n",
      "9186/9186 [==============================] - 47s 5ms/step - loss: 0.7471 - acc: 0.8366 - matthews_correlation: 0.6732 - val_loss: 0.9160 - val_acc: 0.8130 - val_matthews_correlation: 0.6260\n",
      "Epoch 56/150\n",
      "9186/9186 [==============================] - 47s 5ms/step - loss: 0.7084 - acc: 0.8407 - matthews_correlation: 0.6815 - val_loss: 0.9883 - val_acc: 0.8029 - val_matthews_correlation: 0.6058\n",
      "Epoch 57/150\n",
      "9186/9186 [==============================] - 47s 5ms/step - loss: 0.6931 - acc: 0.8439 - matthews_correlation: 0.6878 - val_loss: 0.9089 - val_acc: 0.8223 - val_matthews_correlation: 0.6445\n",
      "Epoch 58/150\n",
      "9186/9186 [==============================] - 47s 5ms/step - loss: 0.7039 - acc: 0.8435 - matthews_correlation: 0.6869 - val_loss: 1.0140 - val_acc: 0.8091 - val_matthews_correlation: 0.6181\n",
      "Epoch 59/150\n",
      "9186/9186 [==============================] - 47s 5ms/step - loss: 0.6783 - acc: 0.8437 - matthews_correlation: 0.6874 - val_loss: 0.9389 - val_acc: 0.8174 - val_matthews_correlation: 0.6348\n",
      "Epoch 60/150\n",
      "9186/9186 [==============================] - 47s 5ms/step - loss: 0.7211 - acc: 0.8441 - matthews_correlation: 0.6882 - val_loss: 0.9376 - val_acc: 0.8227 - val_matthews_correlation: 0.6454\n",
      "Epoch 61/150\n",
      "9186/9186 [==============================] - 47s 5ms/step - loss: 0.6980 - acc: 0.8414 - matthews_correlation: 0.6828 - val_loss: 0.9121 - val_acc: 0.8192 - val_matthews_correlation: 0.6384\n",
      "Epoch 62/150\n",
      "9186/9186 [==============================] - 47s 5ms/step - loss: 0.7023 - acc: 0.8382 - matthews_correlation: 0.6765 - val_loss: 0.9309 - val_acc: 0.8161 - val_matthews_correlation: 0.6322\n",
      "Epoch 63/150\n",
      "9186/9186 [==============================] - 48s 5ms/step - loss: 0.6763 - acc: 0.8433 - matthews_correlation: 0.6867 - val_loss: 0.9413 - val_acc: 0.8117 - val_matthews_correlation: 0.6234\n",
      "Epoch 64/150\n",
      "9186/9186 [==============================] - 47s 5ms/step - loss: 0.6614 - acc: 0.8497 - matthews_correlation: 0.6993 - val_loss: 0.9092 - val_acc: 0.8218 - val_matthews_correlation: 0.6436\n",
      "Epoch 65/150\n",
      "9186/9186 [==============================] - 47s 5ms/step - loss: 0.6553 - acc: 0.8500 - matthews_correlation: 0.7000 - val_loss: 0.9808 - val_acc: 0.8126 - val_matthews_correlation: 0.6252\n",
      "Epoch 66/150\n",
      "9186/9186 [==============================] - 47s 5ms/step - loss: 0.6877 - acc: 0.8545 - matthews_correlation: 0.7089 - val_loss: 0.8966 - val_acc: 0.8297 - val_matthews_correlation: 0.6595\n",
      "Epoch 67/150\n",
      "9186/9186 [==============================] - 47s 5ms/step - loss: 0.7034 - acc: 0.8461 - matthews_correlation: 0.6921 - val_loss: 0.9052 - val_acc: 0.8205 - val_matthews_correlation: 0.6410\n",
      "Epoch 68/150\n",
      "9186/9186 [==============================] - 47s 5ms/step - loss: 0.6887 - acc: 0.8521 - matthews_correlation: 0.7041 - val_loss: 0.9206 - val_acc: 0.8363 - val_matthews_correlation: 0.6727\n",
      "Epoch 69/150\n",
      "9186/9186 [==============================] - 47s 5ms/step - loss: 0.6955 - acc: 0.8498 - matthews_correlation: 0.6995 - val_loss: 0.9501 - val_acc: 0.8306 - val_matthews_correlation: 0.6612\n",
      "Epoch 70/150\n",
      "9186/9186 [==============================] - 47s 5ms/step - loss: 0.6440 - acc: 0.8486 - matthews_correlation: 0.6971 - val_loss: 0.9137 - val_acc: 0.8148 - val_matthews_correlation: 0.6296\n",
      "Epoch 71/150\n",
      "9186/9186 [==============================] - 48s 5ms/step - loss: 0.6682 - acc: 0.8475 - matthews_correlation: 0.6950 - val_loss: 0.9041 - val_acc: 0.8324 - val_matthews_correlation: 0.6648\n",
      "Epoch 72/150\n",
      "9186/9186 [==============================] - 48s 5ms/step - loss: 0.6240 - acc: 0.8567 - matthews_correlation: 0.7135 - val_loss: 0.8532 - val_acc: 0.8209 - val_matthews_correlation: 0.6419\n",
      "Epoch 73/150\n",
      "9186/9186 [==============================] - 48s 5ms/step - loss: 0.6534 - acc: 0.8517 - matthews_correlation: 0.7035 - val_loss: 0.8570 - val_acc: 0.8205 - val_matthews_correlation: 0.6410\n",
      "Epoch 74/150\n",
      "9186/9186 [==============================] - 48s 5ms/step - loss: 0.6262 - acc: 0.8537 - matthews_correlation: 0.7074 - val_loss: 0.9013 - val_acc: 0.8245 - val_matthews_correlation: 0.6489\n",
      "Epoch 75/150\n",
      "9186/9186 [==============================] - 49s 5ms/step - loss: 0.6745 - acc: 0.8502 - matthews_correlation: 0.7004 - val_loss: 0.8582 - val_acc: 0.8271 - val_matthews_correlation: 0.6542\n",
      "Epoch 76/150\n",
      "9186/9186 [==============================] - 48s 5ms/step - loss: 0.6494 - acc: 0.8504 - matthews_correlation: 0.7008 - val_loss: 0.8726 - val_acc: 0.8236 - val_matthews_correlation: 0.6472\n",
      "Epoch 77/150\n",
      "9186/9186 [==============================] - 48s 5ms/step - loss: 0.6324 - acc: 0.8491 - matthews_correlation: 0.6982 - val_loss: 0.9027 - val_acc: 0.8306 - val_matthews_correlation: 0.6612\n",
      "Epoch 78/150\n",
      "9186/9186 [==============================] - 48s 5ms/step - loss: 0.5935 - acc: 0.8548 - matthews_correlation: 0.7096 - val_loss: 0.8115 - val_acc: 0.8319 - val_matthews_correlation: 0.6639\n",
      "Epoch 79/150\n",
      "9186/9186 [==============================] - 48s 5ms/step - loss: 0.6380 - acc: 0.8499 - matthews_correlation: 0.6998 - val_loss: 0.8812 - val_acc: 0.8196 - val_matthews_correlation: 0.6392\n",
      "Epoch 80/150\n",
      "9186/9186 [==============================] - 50s 5ms/step - loss: 0.5896 - acc: 0.8549 - matthews_correlation: 0.7098 - val_loss: 0.8702 - val_acc: 0.8253 - val_matthews_correlation: 0.6507\n",
      "Epoch 81/150\n"
     ]
    },
    {
     "name": "stdout",
     "output_type": "stream",
     "text": [
      "9186/9186 [==============================] - 47s 5ms/step - loss: 0.6238 - acc: 0.8553 - matthews_correlation: 0.7106 - val_loss: 0.8905 - val_acc: 0.8201 - val_matthews_correlation: 0.6401\n",
      "Epoch 82/150\n",
      "9186/9186 [==============================] - 48s 5ms/step - loss: 0.6197 - acc: 0.8546 - matthews_correlation: 0.7091 - val_loss: 0.9077 - val_acc: 0.8236 - val_matthews_correlation: 0.6472\n",
      "Epoch 83/150\n",
      "9186/9186 [==============================] - 48s 5ms/step - loss: 0.5733 - acc: 0.8607 - matthews_correlation: 0.7213 - val_loss: 0.8807 - val_acc: 0.8218 - val_matthews_correlation: 0.6436\n",
      "Epoch 84/150\n",
      "9186/9186 [==============================] - 48s 5ms/step - loss: 0.5883 - acc: 0.8546 - matthews_correlation: 0.7091 - val_loss: 0.8002 - val_acc: 0.8333 - val_matthews_correlation: 0.6665\n",
      "Epoch 85/150\n",
      "9186/9186 [==============================] - 48s 5ms/step - loss: 0.5863 - acc: 0.8527 - matthews_correlation: 0.7054 - val_loss: 0.8445 - val_acc: 0.8297 - val_matthews_correlation: 0.6595\n",
      "Epoch 86/150\n",
      "9186/9186 [==============================] - 48s 5ms/step - loss: 0.6146 - acc: 0.8608 - matthews_correlation: 0.7215 - val_loss: 0.8484 - val_acc: 0.8324 - val_matthews_correlation: 0.6648\n",
      "Epoch 87/150\n",
      "9186/9186 [==============================] - 48s 5ms/step - loss: 0.5861 - acc: 0.8539 - matthews_correlation: 0.7078 - val_loss: 0.8452 - val_acc: 0.8319 - val_matthews_correlation: 0.6639\n",
      "Epoch 88/150\n",
      "9186/9186 [==============================] - 48s 5ms/step - loss: 0.6195 - acc: 0.8553 - matthews_correlation: 0.7106 - val_loss: 0.7969 - val_acc: 0.8306 - val_matthews_correlation: 0.6612\n",
      "Epoch 89/150\n",
      "9186/9186 [==============================] - 49s 5ms/step - loss: 0.5903 - acc: 0.8552 - matthews_correlation: 0.7104 - val_loss: 0.8430 - val_acc: 0.8311 - val_matthews_correlation: 0.6621\n",
      "Epoch 90/150\n",
      "9186/9186 [==============================] - 48s 5ms/step - loss: 0.5512 - acc: 0.8598 - matthews_correlation: 0.7196 - val_loss: 0.8312 - val_acc: 0.8315 - val_matthews_correlation: 0.6630\n",
      "Epoch 91/150\n",
      "9186/9186 [==============================] - 48s 5ms/step - loss: 0.5945 - acc: 0.8567 - matthews_correlation: 0.7135 - val_loss: 0.8730 - val_acc: 0.8284 - val_matthews_correlation: 0.6568\n",
      "Epoch 92/150\n",
      "9186/9186 [==============================] - 48s 5ms/step - loss: 0.5810 - acc: 0.8627 - matthews_correlation: 0.7255 - val_loss: 0.8666 - val_acc: 0.8267 - val_matthews_correlation: 0.6533\n",
      "Epoch 93/150\n",
      "9186/9186 [==============================] - 48s 5ms/step - loss: 0.5578 - acc: 0.8615 - matthews_correlation: 0.7231 - val_loss: 0.8647 - val_acc: 0.8284 - val_matthews_correlation: 0.6568\n",
      "Epoch 94/150\n",
      "9186/9186 [==============================] - 48s 5ms/step - loss: 0.5829 - acc: 0.8601 - matthews_correlation: 0.7202 - val_loss: 0.8374 - val_acc: 0.8275 - val_matthews_correlation: 0.6551\n",
      "Epoch 95/150\n",
      "9186/9186 [==============================] - 48s 5ms/step - loss: 0.5630 - acc: 0.8627 - matthews_correlation: 0.7255 - val_loss: 0.8349 - val_acc: 0.8363 - val_matthews_correlation: 0.6727\n",
      "Epoch 96/150\n",
      "9186/9186 [==============================] - 48s 5ms/step - loss: 0.5285 - acc: 0.8639 - matthews_correlation: 0.7278 - val_loss: 0.8063 - val_acc: 0.8355 - val_matthews_correlation: 0.6709\n",
      "Epoch 97/150\n",
      "9186/9186 [==============================] - 48s 5ms/step - loss: 0.5599 - acc: 0.8619 - matthews_correlation: 0.7237 - val_loss: 0.8773 - val_acc: 0.8245 - val_matthews_correlation: 0.6489\n",
      "Epoch 98/150\n",
      "9186/9186 [==============================] - 48s 5ms/step - loss: 0.5762 - acc: 0.8640 - matthews_correlation: 0.7281 - val_loss: 0.8482 - val_acc: 0.8306 - val_matthews_correlation: 0.6612\n",
      "Epoch 99/150\n",
      "9186/9186 [==============================] - 49s 5ms/step - loss: 0.5388 - acc: 0.8680 - matthews_correlation: 0.7359 - val_loss: 0.8021 - val_acc: 0.8319 - val_matthews_correlation: 0.6639\n",
      "Epoch 100/150\n",
      "9186/9186 [==============================] - 48s 5ms/step - loss: 0.5471 - acc: 0.8654 - matthews_correlation: 0.7309 - val_loss: 0.8045 - val_acc: 0.8324 - val_matthews_correlation: 0.6648\n",
      "Epoch 101/150\n",
      "9186/9186 [==============================] - 49s 5ms/step - loss: 0.5373 - acc: 0.8665 - matthews_correlation: 0.7331 - val_loss: 0.8202 - val_acc: 0.8297 - val_matthews_correlation: 0.6595\n",
      "Epoch 102/150\n",
      "9186/9186 [==============================] - 49s 5ms/step - loss: 0.5423 - acc: 0.8693 - matthews_correlation: 0.7385 - val_loss: 0.8123 - val_acc: 0.8368 - val_matthews_correlation: 0.6736\n",
      "Epoch 103/150\n",
      "9186/9186 [==============================] - 49s 5ms/step - loss: 0.5433 - acc: 0.8707 - matthews_correlation: 0.7413 - val_loss: 0.8606 - val_acc: 0.8280 - val_matthews_correlation: 0.6560\n",
      "Epoch 104/150\n",
      "9186/9186 [==============================] - 49s 5ms/step - loss: 0.5211 - acc: 0.8708 - matthews_correlation: 0.7416 - val_loss: 0.8333 - val_acc: 0.8390 - val_matthews_correlation: 0.6780\n",
      "Epoch 105/150\n",
      "9186/9186 [==============================] - 49s 5ms/step - loss: 0.5425 - acc: 0.8701 - matthews_correlation: 0.7403 - val_loss: 0.8286 - val_acc: 0.8311 - val_matthews_correlation: 0.6621\n",
      "Epoch 106/150\n",
      "9186/9186 [==============================] - 49s 5ms/step - loss: 0.5691 - acc: 0.8695 - matthews_correlation: 0.7390 - val_loss: 0.8536 - val_acc: 0.8231 - val_matthews_correlation: 0.6463\n",
      "Epoch 107/150\n",
      "9186/9186 [==============================] - 49s 5ms/step - loss: 0.5157 - acc: 0.8687 - matthews_correlation: 0.7374 - val_loss: 0.8518 - val_acc: 0.8319 - val_matthews_correlation: 0.6639\n",
      "Epoch 108/150\n",
      "9186/9186 [==============================] - 49s 5ms/step - loss: 0.5443 - acc: 0.8676 - matthews_correlation: 0.7352 - val_loss: 0.8992 - val_acc: 0.8218 - val_matthews_correlation: 0.6436\n",
      "Epoch 109/150\n",
      "9186/9186 [==============================] - 48s 5ms/step - loss: 0.5112 - acc: 0.8720 - matthews_correlation: 0.7440 - val_loss: 0.8426 - val_acc: 0.8429 - val_matthews_correlation: 0.6859\n",
      "Epoch 110/150\n",
      "9186/9186 [==============================] - 48s 5ms/step - loss: 0.5253 - acc: 0.8713 - matthews_correlation: 0.7427 - val_loss: 0.8420 - val_acc: 0.8328 - val_matthews_correlation: 0.6656\n",
      "Epoch 111/150\n",
      "9186/9186 [==============================] - 48s 5ms/step - loss: 0.5039 - acc: 0.8744 - matthews_correlation: 0.7487 - val_loss: 0.9012 - val_acc: 0.8355 - val_matthews_correlation: 0.6709\n",
      "Epoch 112/150\n",
      "9186/9186 [==============================] - 48s 5ms/step - loss: 0.5312 - acc: 0.8694 - matthews_correlation: 0.7387 - val_loss: 0.8674 - val_acc: 0.8377 - val_matthews_correlation: 0.6753\n",
      "Epoch 113/150\n",
      "9186/9186 [==============================] - 48s 5ms/step - loss: 0.5177 - acc: 0.8744 - matthews_correlation: 0.7487 - val_loss: 0.8766 - val_acc: 0.8355 - val_matthews_correlation: 0.6709\n",
      "Epoch 114/150\n",
      "9186/9186 [==============================] - 49s 5ms/step - loss: 0.5165 - acc: 0.8690 - matthews_correlation: 0.7381 - val_loss: 0.8077 - val_acc: 0.8412 - val_matthews_correlation: 0.6824\n",
      "Epoch 115/150\n",
      "9186/9186 [==============================] - 48s 5ms/step - loss: 0.5106 - acc: 0.8767 - matthews_correlation: 0.7533 - val_loss: 0.8163 - val_acc: 0.8403 - val_matthews_correlation: 0.6806\n",
      "Epoch 116/150\n",
      "9186/9186 [==============================] - 48s 5ms/step - loss: 0.5091 - acc: 0.8732 - matthews_correlation: 0.7464 - val_loss: 0.8131 - val_acc: 0.8350 - val_matthews_correlation: 0.6700\n",
      "Epoch 117/150\n",
      "9186/9186 [==============================] - 48s 5ms/step - loss: 0.4962 - acc: 0.8755 - matthews_correlation: 0.7510 - val_loss: 0.8111 - val_acc: 0.8482 - val_matthews_correlation: 0.6964\n",
      "Epoch 118/150\n",
      "9186/9186 [==============================] - 49s 5ms/step - loss: 0.4989 - acc: 0.8772 - matthews_correlation: 0.7544 - val_loss: 0.7972 - val_acc: 0.8425 - val_matthews_correlation: 0.6850\n",
      "Epoch 119/150\n",
      "9186/9186 [==============================] - 49s 5ms/step - loss: 0.5341 - acc: 0.8730 - matthews_correlation: 0.7459 - val_loss: 0.8708 - val_acc: 0.8337 - val_matthews_correlation: 0.6674\n",
      "Epoch 120/150\n",
      "9186/9186 [==============================] - 49s 5ms/step - loss: 0.4712 - acc: 0.8775 - matthews_correlation: 0.7551 - val_loss: 0.8329 - val_acc: 0.8363 - val_matthews_correlation: 0.6727\n",
      "Epoch 121/150\n"
     ]
    },
    {
     "name": "stdout",
     "output_type": "stream",
     "text": [
      "9186/9186 [==============================] - 47s 5ms/step - loss: 0.4898 - acc: 0.8764 - matthews_correlation: 0.7529 - val_loss: 0.8654 - val_acc: 0.8311 - val_matthews_correlation: 0.6621\n",
      "Epoch 122/150\n",
      "9186/9186 [==============================] - 47s 5ms/step - loss: 0.4733 - acc: 0.8791 - matthews_correlation: 0.7581 - val_loss: 0.9213 - val_acc: 0.8381 - val_matthews_correlation: 0.6762\n",
      "Epoch 123/150\n",
      "9186/9186 [==============================] - 48s 5ms/step - loss: 0.5386 - acc: 0.8810 - matthews_correlation: 0.7620 - val_loss: 0.9459 - val_acc: 0.8377 - val_matthews_correlation: 0.6753\n",
      "Epoch 124/150\n",
      "9186/9186 [==============================] - 48s 5ms/step - loss: 0.4993 - acc: 0.8752 - matthews_correlation: 0.7505 - val_loss: 0.8381 - val_acc: 0.8355 - val_matthews_correlation: 0.6709\n",
      "Epoch 125/150\n",
      "9186/9186 [==============================] - 50s 5ms/step - loss: 0.5077 - acc: 0.8804 - matthews_correlation: 0.7607 - val_loss: 0.8631 - val_acc: 0.8350 - val_matthews_correlation: 0.6700\n",
      "Epoch 126/150\n",
      "9186/9186 [==============================] - 48s 5ms/step - loss: 0.4826 - acc: 0.8751 - matthews_correlation: 0.7503 - val_loss: 0.8803 - val_acc: 0.8421 - val_matthews_correlation: 0.6841\n",
      "Epoch 127/150\n",
      "9186/9186 [==============================] - 48s 5ms/step - loss: 0.4659 - acc: 0.8785 - matthews_correlation: 0.7570 - val_loss: 0.8485 - val_acc: 0.8447 - val_matthews_correlation: 0.6894\n",
      "Epoch 128/150\n",
      "9186/9186 [==============================] - 47s 5ms/step - loss: 0.4866 - acc: 0.8817 - matthews_correlation: 0.7633 - val_loss: 0.8120 - val_acc: 0.8451 - val_matthews_correlation: 0.6903\n",
      "Epoch 129/150\n",
      "9186/9186 [==============================] - 48s 5ms/step - loss: 0.4530 - acc: 0.8812 - matthews_correlation: 0.7625 - val_loss: 0.8290 - val_acc: 0.8394 - val_matthews_correlation: 0.6788\n",
      "Epoch 130/150\n",
      "9186/9186 [==============================] - 48s 5ms/step - loss: 0.4578 - acc: 0.8820 - matthews_correlation: 0.7640 - val_loss: 0.8784 - val_acc: 0.8478 - val_matthews_correlation: 0.6956\n",
      "Epoch 131/150\n",
      "9186/9186 [==============================] - 47s 5ms/step - loss: 0.4558 - acc: 0.8849 - matthews_correlation: 0.7699 - val_loss: 0.8242 - val_acc: 0.8447 - val_matthews_correlation: 0.6894\n",
      "Epoch 132/150\n",
      "9186/9186 [==============================] - 47s 5ms/step - loss: 0.4728 - acc: 0.8869 - matthews_correlation: 0.7738 - val_loss: 0.8501 - val_acc: 0.8381 - val_matthews_correlation: 0.6762\n",
      "Epoch 133/150\n",
      "9186/9186 [==============================] - 47s 5ms/step - loss: 0.4737 - acc: 0.8824 - matthews_correlation: 0.7649 - val_loss: 0.8635 - val_acc: 0.8456 - val_matthews_correlation: 0.6912\n",
      "Epoch 134/150\n",
      "9186/9186 [==============================] - 45s 5ms/step - loss: 0.4966 - acc: 0.8807 - matthews_correlation: 0.7614 - val_loss: 0.8293 - val_acc: 0.8504 - val_matthews_correlation: 0.7008\n",
      "Epoch 135/150\n",
      "9186/9186 [==============================] - 45s 5ms/step - loss: 0.4797 - acc: 0.8890 - matthews_correlation: 0.7779 - val_loss: 0.8102 - val_acc: 0.8544 - val_matthews_correlation: 0.7088\n",
      "Epoch 136/150\n",
      "9186/9186 [==============================] - 45s 5ms/step - loss: 0.4743 - acc: 0.8895 - matthews_correlation: 0.7790 - val_loss: 0.8133 - val_acc: 0.8465 - val_matthews_correlation: 0.6929\n",
      "Epoch 137/150\n",
      "9186/9186 [==============================] - 45s 5ms/step - loss: 0.4748 - acc: 0.8848 - matthews_correlation: 0.7696 - val_loss: 0.8387 - val_acc: 0.8434 - val_matthews_correlation: 0.6868\n",
      "Epoch 138/150\n",
      "9186/9186 [==============================] - 45s 5ms/step - loss: 0.4472 - acc: 0.8881 - matthews_correlation: 0.7762 - val_loss: 0.8368 - val_acc: 0.8487 - val_matthews_correlation: 0.6973\n",
      "Epoch 139/150\n",
      "9186/9186 [==============================] - 45s 5ms/step - loss: 0.4513 - acc: 0.8843 - matthews_correlation: 0.7686 - val_loss: 0.7894 - val_acc: 0.8491 - val_matthews_correlation: 0.6982\n",
      "Epoch 140/150\n",
      "9186/9186 [==============================] - 45s 5ms/step - loss: 0.4590 - acc: 0.8889 - matthews_correlation: 0.7777 - val_loss: 0.8508 - val_acc: 0.8377 - val_matthews_correlation: 0.6753\n",
      "Epoch 141/150\n",
      "9186/9186 [==============================] - 45s 5ms/step - loss: 0.4791 - acc: 0.8848 - matthews_correlation: 0.7696 - val_loss: 0.8146 - val_acc: 0.8425 - val_matthews_correlation: 0.6850\n",
      "Epoch 142/150\n",
      "9186/9186 [==============================] - 45s 5ms/step - loss: 0.4455 - acc: 0.8872 - matthews_correlation: 0.7744 - val_loss: 0.8251 - val_acc: 0.8421 - val_matthews_correlation: 0.6841\n",
      "Epoch 143/150\n",
      "9186/9186 [==============================] - 45s 5ms/step - loss: 0.4572 - acc: 0.8896 - matthews_correlation: 0.7792 - val_loss: 0.8187 - val_acc: 0.8447 - val_matthews_correlation: 0.6894\n",
      "Epoch 144/150\n",
      "9186/9186 [==============================] - 45s 5ms/step - loss: 0.4636 - acc: 0.8849 - matthews_correlation: 0.7699 - val_loss: 0.8088 - val_acc: 0.8460 - val_matthews_correlation: 0.6920\n",
      "Epoch 145/150\n",
      "9186/9186 [==============================] - 44s 5ms/step - loss: 0.4402 - acc: 0.8901 - matthews_correlation: 0.7801 - val_loss: 0.8004 - val_acc: 0.8465 - val_matthews_correlation: 0.6929\n",
      "Epoch 146/150\n",
      "9186/9186 [==============================] - 45s 5ms/step - loss: 0.4248 - acc: 0.8904 - matthews_correlation: 0.7808 - val_loss: 0.8085 - val_acc: 0.8460 - val_matthews_correlation: 0.6920\n",
      "Epoch 147/150\n",
      "9186/9186 [==============================] - 45s 5ms/step - loss: 0.4402 - acc: 0.8916 - matthews_correlation: 0.7831 - val_loss: 0.8087 - val_acc: 0.8517 - val_matthews_correlation: 0.7035\n",
      "Epoch 148/150\n",
      "9186/9186 [==============================] - 45s 5ms/step - loss: 0.4481 - acc: 0.8957 - matthews_correlation: 0.7914 - val_loss: 0.7792 - val_acc: 0.8504 - val_matthews_correlation: 0.7008\n",
      "Epoch 149/150\n",
      "9186/9186 [==============================] - 45s 5ms/step - loss: 0.4343 - acc: 0.8927 - matthews_correlation: 0.7853 - val_loss: 0.8278 - val_acc: 0.8513 - val_matthews_correlation: 0.7026\n",
      "Epoch 150/150\n",
      "9186/9186 [==============================] - 45s 5ms/step - loss: 0.4224 - acc: 0.8932 - matthews_correlation: 0.7864 - val_loss: 0.8170 - val_acc: 0.8473 - val_matthews_correlation: 0.6947\n"
     ]
    }
   ],
   "source": [
    "#Fit Data to Model\n",
    "from keras.optimizers import Adamax\n",
    "from keras import metrics\n",
    "adamax = Adamax(lr=0.001, beta_1=0.9, beta_2=0.999, epsilon=1e-08, decay=0.0); #3e-4; 2e-3 is a default.\n",
    "model.compile(optimizer=adamax, loss='categorical_crossentropy', metrics=['acc',matthews_correlation])\n",
    "history = model.fit(X_train2, y_train2, epochs=150\n",
    "                    , batch_size=32, verbose = 1, validation_data = (X_dev, y_dev))"
   ]
  },
  {
   "cell_type": "code",
   "execution_count": 11,
   "metadata": {},
   "outputs": [
    {
     "data": {
      "text/plain": [
       "[<matplotlib.lines.Line2D at 0xf4febd6160>]"
      ]
     },
     "execution_count": 11,
     "metadata": {},
     "output_type": "execute_result"
    },
    {
     "data": {
      "image/png": "[encoded data removed]",
      "text/plain": [
       "<matplotlib.figure.Figure at 0xf4febd6128>"
      ]
     },
     "metadata": {},
     "output_type": "display_data"
    }
   ],
   "source": [
    "import matplotlib.pyplot as plt\n",
    "\n",
    "%matplotlib inline\n",
    "\n",
    "plt.plot(history.history['acc'])\n",
    "plt.plot(history.history['val_acc'])"
   ]
  },
  {
   "cell_type": "code",
   "execution_count": 12,
   "metadata": {},
   "outputs": [
    {
     "data": {
      "text/plain": [
       "[<matplotlib.lines.Line2D at 0xf4eeeb8240>]"
      ]
     },
     "execution_count": 12,
     "metadata": {},
     "output_type": "execute_result"
    },
    {
     "data": {
      "image/png": "[encoded data removed]",
      "text/plain": [
       "<matplotlib.figure.Figure at 0xf4eeeb8160>"
      ]
     },
     "metadata": {},
     "output_type": "display_data"
    }
   ],
   "source": [
    "plt.plot(history.history['loss'])\n",
    "plt.plot(history.history['val_loss'])"
   ]
  },
  {
   "cell_type": "code",
   "execution_count": 13,
   "metadata": {},
   "outputs": [
    {
     "data": {
      "text/plain": [
       "[<matplotlib.lines.Line2D at 0xf48e297cc0>]"
      ]
     },
     "execution_count": 13,
     "metadata": {},
     "output_type": "execute_result"
    },
    {
     "data": {
      "image/png": "[encoded data removed]",
      "text/plain": [
       "<matplotlib.figure.Figure at 0xf48e297c50>"
      ]
     },
     "metadata": {},
     "output_type": "display_data"
    }
   ],
   "source": [
    "plt.plot(history.history['matthews_correlation'])\n",
    "plt.plot(history.history['val_matthews_correlation'])"
   ]
  },
  {
   "cell_type": "code",
   "execution_count": 14,
   "metadata": {},
   "outputs": [],
   "source": [
    "y_pred = model.predict(X_dev)"
   ]
  },
  {
   "cell_type": "code",
   "execution_count": 15,
   "metadata": {},
   "outputs": [
    {
     "data": {
      "text/plain": [
       "array([[ 464,  259],\n",
       "       [  88, 1462]], dtype=int64)"
      ]
     },
     "execution_count": 15,
     "metadata": {},
     "output_type": "execute_result"
    }
   ],
   "source": [
    "import sklearn.metrics as sklm\n",
    "cm = sklm.confusion_matrix(y_dev.argmax(axis=1),y_pred.argmax(axis=1))\n",
    "cm"
   ]
  },
  {
   "cell_type": "code",
   "execution_count": 16,
   "metadata": {},
   "outputs": [
    {
     "data": {
      "text/plain": [
       "0.8473383194016718"
      ]
     },
     "execution_count": 16,
     "metadata": {},
     "output_type": "execute_result"
    }
   ],
   "source": [
    "a_s = sklm.accuracy_score(y_dev.argmax(axis=1),y_pred.argmax(axis=1))\n",
    "a_s"
   ]
  },
  {
   "cell_type": "code",
   "execution_count": 17,
   "metadata": {},
   "outputs": [
    {
     "name": "stdout",
     "output_type": "stream",
     "text": [
      "              precision    recall  f1-score   support\n",
      "\n",
      "           0       0.84      0.64      0.73       723\n",
      "           1       0.85      0.94      0.89      1550\n",
      "\n",
      "   micro avg       0.85      0.85      0.85      2273\n",
      "   macro avg       0.85      0.79      0.81      2273\n",
      "weighted avg       0.85      0.85      0.84      2273\n",
      "\n"
     ]
    }
   ],
   "source": [
    "c_r = sklm.classification_report(y_dev.argmax(axis=1),y_pred.argmax(axis=1))\n",
    "print(c_r)"
   ]
  },
  {
   "cell_type": "code",
   "execution_count": 18,
   "metadata": {},
   "outputs": [
    {
     "name": "stderr",
     "output_type": "stream",
     "text": [
      "C:\\Users\\Hamish\\Anaconda3\\lib\\site-packages\\ipykernel_launcher.py:4: DeprecationWarning: Both axis > a.ndim and axis < -a.ndim - 1 are deprecated and will raise an AxisError in the future.\n",
      "  after removing the cwd from sys.path.\n"
     ]
    }
   ],
   "source": [
    "#Bring in Test Data for Analysis\n",
    "\n",
    "#Convert Test Set Data\n",
    "X_train = np.expand_dims(X_train,axis=4)\n",
    "y_train = keras.utils.to_categorical(y_train,num_classes=2)"
   ]
  },
  {
   "cell_type": "code",
   "execution_count": 19,
   "metadata": {},
   "outputs": [],
   "source": [
    "y_pred_train = model.predict(X_train)"
   ]
  },
  {
   "cell_type": "code",
   "execution_count": 20,
   "metadata": {},
   "outputs": [
    {
     "data": {
      "text/plain": [
       "array([[1976, 1029],\n",
       "       [ 144, 6312]], dtype=int64)"
      ]
     },
     "execution_count": 20,
     "metadata": {},
     "output_type": "execute_result"
    }
   ],
   "source": [
    "import sklearn.metrics as sklm\n",
    "cm2 = sklm.confusion_matrix(y_train.argmax(axis=1),y_pred_train.argmax(axis=1))\n",
    "cm2"
   ]
  },
  {
   "cell_type": "code",
   "execution_count": 21,
   "metadata": {},
   "outputs": [
    {
     "data": {
      "text/plain": [
       "0.8760173343198393"
      ]
     },
     "execution_count": 21,
     "metadata": {},
     "output_type": "execute_result"
    }
   ],
   "source": [
    "a_s2 = sklm.accuracy_score(y_train.argmax(axis=1),y_pred_train.argmax(axis=1))\n",
    "a_s2"
   ]
  },
  {
   "cell_type": "code",
   "execution_count": 22,
   "metadata": {},
   "outputs": [
    {
     "name": "stdout",
     "output_type": "stream",
     "text": [
      "              precision    recall  f1-score   support\n",
      "\n",
      "           0       0.93      0.66      0.77      3005\n",
      "           1       0.86      0.98      0.91      6456\n",
      "\n",
      "   micro avg       0.88      0.88      0.88      9461\n",
      "   macro avg       0.90      0.82      0.84      9461\n",
      "weighted avg       0.88      0.88      0.87      9461\n",
      "\n"
     ]
    }
   ],
   "source": [
    "c_r2 = sklm.classification_report(y_train.argmax(axis=1),y_pred_train.argmax(axis=1))\n",
    "print(c_r2)"
   ]
  },
  {
   "cell_type": "code",
   "execution_count": null,
   "metadata": {},
   "outputs": [],
   "source": []
  },
  {
   "cell_type": "code",
   "execution_count": null,
   "metadata": {},
   "outputs": [],
   "source": []
  },
  {
   "cell_type": "code",
   "execution_count": null,
   "metadata": {},
   "outputs": [],
   "source": []
  },
  {
   "cell_type": "code",
   "execution_count": null,
   "metadata": {},
   "outputs": [],
   "source": []
  },
  {
   "cell_type": "code",
   "execution_count": null,
   "metadata": {},
   "outputs": [],
   "source": []
  },
  {
   "cell_type": "code",
   "execution_count": null,
   "metadata": {},
   "outputs": [],
   "source": []
  },
  {
   "cell_type": "code",
   "execution_count": null,
   "metadata": {},
   "outputs": [],
   "source": []
  }
 ],
 "metadata": {
  "kernelspec": {
   "display_name": "Python 3",
   "language": "python",
   "name": "python3"
  },
  "language_info": {
   "codemirror_mode": {
    "name": "ipython",
    "version": 3
   },
   "file_extension": ".py",
   "mimetype": "text/x-python",
   "name": "python",
   "nbconvert_exporter": "python",
   "pygments_lexer": "ipython3",
   "version": "3.6.4"
  }
 },
 "nbformat": 4,
 "nbformat_minor": 2
}
